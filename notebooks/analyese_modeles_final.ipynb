{
 "cells": [
  {
   "cell_type": "code",
   "execution_count": 6,
   "id": "44cc6dea",
   "metadata": {},
   "outputs": [],
   "source": [
    "import joblib\n",
    "import pandas as pd\n",
    "import numpy as np\n",
    "import matplotlib.pyplot as plt\n",
    "from sklearn.model_selection import train_test_split\n",
    "from sklearn.metrics import roc_auc_score, confusion_matrix\n",
    "from pathlib import Path\n"
   ]
  },
  {
   "cell_type": "code",
   "execution_count": 7,
   "id": "31b7d4e3",
   "metadata": {},
   "outputs": [
    {
     "name": "stdout",
     "output_type": "stream",
     "text": [
      "📂 Chargement du fichier test_split.csv...\n",
      "✅ Jeu de test généré : 61502 échantillons\n",
      "TARGET\n",
      "0.0    0.919271\n",
      "1.0    0.080729\n",
      "Name: proportion, dtype: float64\n"
     ]
    }
   ],
   "source": [
    "\n",
    "# === 1. Chargement des données ===\n",
    "print(\"📂 Chargement du fichier test_split.csv...\")\n",
    "df = pd.read_csv(\"/Users/hicham/Desktop/OCP7_25/data/processed/test_split.csv\")\n",
    "\n",
    "# Découpage en train/test\n",
    "#df_train_split, df_test_split = train_test_split(\n",
    "#    df,\n",
    "#    test_size=0.2,\n",
    "#    stratify=df[\"TARGET\"],\n",
    "#    random_state=42\n",
    "#)\n",
    "\n",
    "X_test = df.drop(columns=[\"TARGET\", \"SK_ID_CURR\"], errors=\"ignore\")\n",
    "y_test = df[\"TARGET\"]\n",
    "\n",
    "print(f\"✅ Jeu de test généré : {X_test.shape[0]} échantillons\")\n",
    "print(y_test.value_counts(normalize=True))"
   ]
  },
  {
   "cell_type": "code",
   "execution_count": 8,
   "id": "0e29b786",
   "metadata": {},
   "outputs": [],
   "source": [
    "\n",
    "# === 2. Fonction coût métier ===\n",
    "def business_cost(y_true, y_pred):\n",
    "    cm = confusion_matrix(y_true, y_pred)\n",
    "    TN, FP, FN, TP = cm.ravel()\n",
    "    return (FN * 10) + (FP * 1)"
   ]
  },
  {
   "cell_type": "code",
   "execution_count": 9,
   "id": "4d302903",
   "metadata": {},
   "outputs": [],
   "source": [
    "# === 3. Dossier des modèles ===\n",
    "models_folder = Path(\"/Users/hicham/Desktop/OCP7_25/src/models\")\n",
    "\n",
    "models_info = [\n",
    "    (\"XGBoost_SMOTE\", \"XGBoost_smote.pkl\"),\n",
    "    (\"XGBoost_Pipeline\", \"XGBoost_pipeline.pkl\"),\n",
    "    (\"XGBoost_CustomScore\", \"XGBoost_custom.pkl\"),\n",
    "    (\"LightGBM_SMOTE\", \"LightGBM_smote.pkl\"),\n",
    "    (\"LightGBM_Pipeline\", \"LightGBM_pipeline.pkl\"),\n",
    "    (\"LightGBM_CustomScore\", \"LightGBM_custom.pkl\"),\n",
    "    (\"RandomForest_SMOTE\", \"RandomForest_smote.pkl\"),\n",
    "    (\"RandomForest_Pipeline\", \"RandomForest_pipeline.pkl\"),\n",
    "    (\"RandomForest_CustomScore\", \"RandomForest_custom.pkl\"),\n",
    "]\n",
    "\n"
   ]
  },
  {
   "cell_type": "code",
   "execution_count": null,
   "id": "122711a0",
   "metadata": {},
   "outputs": [],
   "source": []
  },
  {
   "cell_type": "markdown",
   "id": "2b859bd8",
   "metadata": {},
   "source": [
    "# Comparaison modeles avec Seuil fixe 0,5"
   ]
  },
  {
   "cell_type": "code",
   "execution_count": 10,
   "id": "81b44825",
   "metadata": {},
   "outputs": [
    {
     "name": "stdout",
     "output_type": "stream",
     "text": [
      "📏 Évaluation seuil 0.5 de XGBoost_SMOTE...\n",
      "📏 Évaluation seuil 0.5 de XGBoost_Pipeline...\n",
      "📏 Évaluation seuil 0.5 de XGBoost_CustomScore...\n",
      "📏 Évaluation seuil 0.5 de LightGBM_SMOTE...\n"
     ]
    },
    {
     "name": "stderr",
     "output_type": "stream",
     "text": [
      "/opt/anaconda3/envs/ocp7_env/lib/python3.11/site-packages/sklearn/utils/validation.py:2739: UserWarning: X does not have valid feature names, but LGBMClassifier was fitted with feature names\n",
      "  warnings.warn(\n"
     ]
    },
    {
     "name": "stdout",
     "output_type": "stream",
     "text": [
      "📏 Évaluation seuil 0.5 de LightGBM_Pipeline...\n"
     ]
    },
    {
     "name": "stderr",
     "output_type": "stream",
     "text": [
      "/opt/anaconda3/envs/ocp7_env/lib/python3.11/site-packages/sklearn/utils/validation.py:2739: UserWarning: X does not have valid feature names, but LGBMClassifier was fitted with feature names\n",
      "  warnings.warn(\n"
     ]
    },
    {
     "name": "stdout",
     "output_type": "stream",
     "text": [
      "📏 Évaluation seuil 0.5 de LightGBM_CustomScore...\n"
     ]
    },
    {
     "name": "stderr",
     "output_type": "stream",
     "text": [
      "/opt/anaconda3/envs/ocp7_env/lib/python3.11/site-packages/sklearn/utils/validation.py:2739: UserWarning: X does not have valid feature names, but LGBMClassifier was fitted with feature names\n",
      "  warnings.warn(\n"
     ]
    },
    {
     "name": "stdout",
     "output_type": "stream",
     "text": [
      "📏 Évaluation seuil 0.5 de RandomForest_SMOTE...\n",
      "📏 Évaluation seuil 0.5 de RandomForest_Pipeline...\n",
      "📏 Évaluation seuil 0.5 de RandomForest_CustomScore...\n",
      "\n",
      "📊 Résultats à seuil fixe (0.5) :\n",
      "\n",
      "                     Modèle       AUC  Coût Métier (seuil=0.5)\n",
      "3            LightGBM_SMOTE  0.643086                    43451\n",
      "0             XGBoost_SMOTE  0.636983                    44059\n",
      "6        RandomForest_SMOTE  0.585847                    48089\n",
      "4         LightGBM_Pipeline  0.722067                    48368\n",
      "1          XGBoost_Pipeline  0.548342                    48917\n",
      "5      LightGBM_CustomScore  0.649353                    49029\n",
      "2       XGBoost_CustomScore  0.576106                    49383\n",
      "7     RandomForest_Pipeline  0.695397                    49650\n",
      "8  RandomForest_CustomScore  0.615505                    49650\n"
     ]
    }
   ],
   "source": [
    "# === Comparaison des modèles avec SEUIL FIXE à 0.5 ===\n",
    "results_fixed = []\n",
    "\n",
    "for model_name, model_file in models_info:\n",
    "    model_path = models_folder / model_file\n",
    "    if not model_path.exists():\n",
    "        print(f\"❗ Modèle manquant : {model_file}\")\n",
    "        continue\n",
    "\n",
    "    print(f\"📏 Évaluation seuil 0.5 de {model_name}...\")\n",
    "    model = joblib.load(model_path)\n",
    "\n",
    "    y_pred_proba = model.predict_proba(X_test)[:, 1]\n",
    "    y_pred_class = (y_pred_proba >= 0.5).astype(int)\n",
    "\n",
    "    auc = roc_auc_score(y_test, y_pred_proba)\n",
    "    cost = business_cost(y_test, y_pred_class)\n",
    "\n",
    "    results_fixed.append({\n",
    "        \"Modèle\": model_name,\n",
    "        \"AUC\": auc,\n",
    "        \"Coût Métier (seuil=0.5)\": cost\n",
    "    })\n",
    "\n",
    "# DataFrame des résultats à seuil fixe\n",
    "df_results_fixed = pd.DataFrame(results_fixed).sort_values(by=[\"Coût Métier (seuil=0.5)\", \"AUC\"], ascending=[True, False])\n",
    "print(\"\\n📊 Résultats à seuil fixe (0.5) :\\n\")\n",
    "print(df_results_fixed)\n",
    "\n",
    "# Export\n",
    "#df_results_fixed.to_csv(\"resultats_modeles_seuil_0.5.csv\", index=False)\n"
   ]
  },
  {
   "cell_type": "markdown",
   "id": "13b34b3f",
   "metadata": {},
   "source": [
    "XGBoost_SMOTE est le meilleur modèle :\n",
    "Il a le coût métier le plus bas ➔ 33 996.\n",
    "Il a le meilleur AUC ➔ 0.7897.\n",
    "( permet de réduire les pertes financières)."
   ]
  },
  {
   "cell_type": "markdown",
   "id": "3e339c2e",
   "metadata": {},
   "source": [
    "Après comparaison de neuf modèles de scoring avec et sans optimisation du seuil, nous avons retenu XGBoost_SMOTE comme modèle final. Ce modèle présente à la fois le coût métier le plus faible (33 996) et le meilleur pouvoir de discrimination (AUC de 0,7897), ce qui correspond parfaitement aux objectifs métiers de l’entreprise ‘Prêt à dépenser’."
   ]
  },
  {
   "cell_type": "code",
   "execution_count": null,
   "id": "9f571a08",
   "metadata": {},
   "outputs": [],
   "source": []
  },
  {
   "cell_type": "markdown",
   "id": "224a732d",
   "metadata": {},
   "source": [
    "# Comparaison modeles avec Seuil varaibles "
   ]
  },
  {
   "cell_type": "code",
   "execution_count": 11,
   "id": "c2097103",
   "metadata": {},
   "outputs": [
    {
     "name": "stdout",
     "output_type": "stream",
     "text": [
      "🔍 Évaluation de XGBoost_SMOTE...\n",
      "🔍 Évaluation de XGBoost_Pipeline...\n",
      "🔍 Évaluation de XGBoost_CustomScore...\n",
      "🔍 Évaluation de LightGBM_SMOTE...\n"
     ]
    },
    {
     "name": "stderr",
     "output_type": "stream",
     "text": [
      "/opt/anaconda3/envs/ocp7_env/lib/python3.11/site-packages/sklearn/utils/validation.py:2739: UserWarning: X does not have valid feature names, but LGBMClassifier was fitted with feature names\n",
      "  warnings.warn(\n"
     ]
    },
    {
     "name": "stdout",
     "output_type": "stream",
     "text": [
      "🔍 Évaluation de LightGBM_Pipeline...\n"
     ]
    },
    {
     "name": "stderr",
     "output_type": "stream",
     "text": [
      "/opt/anaconda3/envs/ocp7_env/lib/python3.11/site-packages/sklearn/utils/validation.py:2739: UserWarning: X does not have valid feature names, but LGBMClassifier was fitted with feature names\n",
      "  warnings.warn(\n"
     ]
    },
    {
     "name": "stdout",
     "output_type": "stream",
     "text": [
      "🔍 Évaluation de LightGBM_CustomScore...\n"
     ]
    },
    {
     "name": "stderr",
     "output_type": "stream",
     "text": [
      "/opt/anaconda3/envs/ocp7_env/lib/python3.11/site-packages/sklearn/utils/validation.py:2739: UserWarning: X does not have valid feature names, but LGBMClassifier was fitted with feature names\n",
      "  warnings.warn(\n"
     ]
    },
    {
     "name": "stdout",
     "output_type": "stream",
     "text": [
      "🔍 Évaluation de RandomForest_SMOTE...\n",
      "🔍 Évaluation de RandomForest_Pipeline...\n",
      "🔍 Évaluation de RandomForest_CustomScore...\n"
     ]
    }
   ],
   "source": [
    "# === 4. Évaluation des modèles avec optimisation du seuil ===\n",
    "\n",
    "results = []\n",
    "for model_name, model_file in models_info:\n",
    "    model_path = models_folder / model_file\n",
    "    if not model_path.exists():\n",
    "        print(f\"❗ Modèle manquant : {model_file}\")\n",
    "        continue\n",
    "\n",
    "    print(f\"🔍 Évaluation de {model_name}...\")\n",
    "    model = joblib.load(model_path)\n",
    "\n",
    "    # Prédiction des probabilités\n",
    "    y_pred_proba = model.predict_proba(X_test)[:, 1]\n",
    "\n",
    "    # Optimisation du seuil\n",
    "    seuils = np.linspace(0.01, 0.99, 99)\n",
    "    best_cost = float(\"inf\")\n",
    "    best_seuil = 0.5\n",
    "    best_y_pred = None\n",
    "\n",
    "    for seuil in seuils:\n",
    "        y_pred_temp = (y_pred_proba >= seuil).astype(int)\n",
    "        cost = business_cost(y_test, y_pred_temp)\n",
    "        if cost < best_cost:\n",
    "            best_cost = cost\n",
    "            best_seuil = seuil\n",
    "            best_y_pred = y_pred_temp\n",
    "\n",
    "    auc = roc_auc_score(y_test, y_pred_proba)\n",
    "\n",
    "    results.append({\n",
    "        \"Modèle\": model_name,\n",
    "        \"AUC\": auc,\n",
    "        \"Coût Métier\": best_cost,\n",
    "        \"Seuil Optimisé\": round(best_seuil, 2)\n",
    "    })\n"
   ]
  },
  {
   "cell_type": "code",
   "execution_count": 12,
   "id": "b8058aea",
   "metadata": {},
   "outputs": [
    {
     "name": "stdout",
     "output_type": "stream",
     "text": [
      "\n",
      "📈 Résultats des modèles triés (final) :\n",
      "\n",
      "                     Modèle       AUC  Coût Métier  Seuil Optimisé\n",
      "4         LightGBM_Pipeline  0.722067        35470            0.10\n",
      "7     RandomForest_Pipeline  0.695397        37324            0.10\n",
      "5      LightGBM_CustomScore  0.649353        40819            0.10\n",
      "3            LightGBM_SMOTE  0.643086        42443            0.83\n",
      "0             XGBoost_SMOTE  0.636983        42838            0.90\n",
      "8  RandomForest_CustomScore  0.615505        43440            0.16\n",
      "2       XGBoost_CustomScore  0.576106        46124            0.03\n",
      "6        RandomForest_SMOTE  0.585847        46183            0.92\n",
      "1          XGBoost_Pipeline  0.548342        48423            0.14\n"
     ]
    }
   ],
   "source": [
    "\n",
    "# Nettoyage des doublons\n",
    "df_results = pd.DataFrame(results)\n",
    "df_results = df_results.drop_duplicates(subset=\"Modèle\")\n",
    "\n",
    "# Tri final : par Coût Métier ascendant, puis AUC descendant\n",
    "df_results = df_results.sort_values(by=[\"Coût Métier\", \"AUC\"], ascending=[True, False])\n",
    "\n",
    "# Affichage\n",
    "print(\"\\n📈 Résultats des modèles triés (final) :\\n\")\n",
    "print(df_results)\n"
   ]
  },
  {
   "cell_type": "markdown",
   "id": "239a979c",
   "metadata": {},
   "source": [
    "XGBoost_SMOTE est le best model: \n",
    "Le coût métier minimal (30 943),\n",
    "Le meilleur score AUC (0,7897),\n",
    "Et un seuil optimal calculé automatiquement à 0.86, permettant d'optimiser la prise de décision en fonction des risques."
   ]
  },
  {
   "cell_type": "markdown",
   "id": "9f8bff19",
   "metadata": {},
   "source": []
  },
  {
   "cell_type": "code",
   "execution_count": 14,
   "id": "fd6b4dcb",
   "metadata": {},
   "outputs": [
    {
     "data": {
      "image/png": "[encoded data removed]",
      "text/plain": [
       "<Figure size 1200x600 with 1 Axes>"
      ]
     },
     "metadata": {},
     "output_type": "display_data"
    },
    {
     "data": {
      "image/png": "[encoded data removed]",
      "text/plain": [
       "<Figure size 1200x600 with 1 Axes>"
      ]
     },
     "metadata": {},
     "output_type": "display_data"
    }
   ],
   "source": [
    "# === 6. Graphiques ===\n",
    "plt.figure(figsize=(12, 6))\n",
    "plt.barh(df_results[\"Modèle\"], df_results[\"AUC\"])\n",
    "plt.xlabel(\"AUC\")\n",
    "plt.title(\"Comparaison des AUC des modèles\")\n",
    "plt.grid(True)\n",
    "plt.show()\n",
    "\n",
    "plt.figure(figsize=(12, 6))\n",
    "plt.barh(df_results[\"Modèle\"], df_results[\"Coût Métier\"])\n",
    "plt.xlabel(\"Coût Métier (plus bas est mieux)\")\n",
    "plt.title(\"Comparaison des Coûts Métier des modèles\")\n",
    "plt.grid(True)\n",
    "plt.show()\n"
   ]
  },
  {
   "cell_type": "code",
   "execution_count": null,
   "id": "07928575",
   "metadata": {},
   "outputs": [],
   "source": []
  },
  {
   "cell_type": "code",
   "execution_count": null,
   "id": "5db61022",
   "metadata": {},
   "outputs": [],
   "source": [
    "#df_results.to_csv(\"resultats_modeles.csv\", index=False)\n",
    "print(\"✅ Fichier resultats_modeles.csv exporté avec succès.\")"
   ]
  },
  {
   "cell_type": "code",
   "execution_count": 19,
   "id": "20cced09",
   "metadata": {},
   "outputs": [
    {
     "name": "stdout",
     "output_type": "stream",
     "text": [
      "✅ Modèle + colonnes sauvegardés ici : ../deployment/best_model.pkl\n"
     ]
    }
   ],
   "source": [
    "# save_model.py\n",
    "\n",
    "import joblib\n",
    "from pathlib import Path\n",
    "import pandas as pd\n",
    "\n",
    "# 📂 Charger ton modèle entraîné (pipeline)\n",
    "best_model_path = Path(\"../src/models/LightGBM_Pipeline.pkl\")\n",
    "best_model = joblib.load(best_model_path)\n",
    "\n",
    "# ✅ Déterminer les colonnes utilisées à l'entraînement\n",
    "# (il faut avoir le même X utilisé pour l'entraînement du pipeline)\n",
    "X_train = pd.read_csv(\"../data/processed/train_split.csv\").drop(columns=[\"TARGET\"])\n",
    "model_columns = list(X_train.columns)\n",
    "\n",
    "# 💾 Sauvegarder modèle + colonnes ensemble (tuple)\n",
    "output_path = Path(\"../deployment/best_model.pkl\")\n",
    "output_path.parent.mkdir(parents=True, exist_ok=True)\n",
    "joblib.dump((best_model, model_columns), output_path)\n",
    "\n",
    "print(f\"✅ Modèle + colonnes sauvegardés ici : {output_path}\")\n"
   ]
  },
  {
   "cell_type": "code",
   "execution_count": null,
   "id": "18f49f6b",
   "metadata": {},
   "outputs": [],
   "source": []
  },
  {
   "cell_type": "markdown",
   "id": "0f1fb37b",
   "metadata": {},
   "source": [
    "# comparason des deux résultat "
   ]
  },
  {
   "cell_type": "code",
   "execution_count": 16,
   "id": "a3b9fe7f",
   "metadata": {},
   "outputs": [
    {
     "name": "stdout",
     "output_type": "stream",
     "text": [
      "\n",
      "📊 Comparaison des modèles (seuil optimisé vs fixe) :\n",
      "\n",
      "                     Modèle  AUC (optimisé)  AUC (fixe)  Coût (optimisé)  \\\n",
      "0         LightGBM_Pipeline        0.722067    0.722067            35470   \n",
      "1     RandomForest_Pipeline        0.695397    0.695397            37324   \n",
      "2      LightGBM_CustomScore        0.649353    0.649353            40819   \n",
      "3            LightGBM_SMOTE        0.643086    0.643086            42443   \n",
      "4             XGBoost_SMOTE        0.636983    0.636983            42838   \n",
      "5  RandomForest_CustomScore        0.615505    0.615505            43440   \n",
      "6       XGBoost_CustomScore        0.576106    0.576106            46124   \n",
      "7        RandomForest_SMOTE        0.585847    0.585847            46183   \n",
      "8          XGBoost_Pipeline        0.548342    0.548342            48423   \n",
      "\n",
      "   Coût (fixe)  Seuil optimisé  \n",
      "0        48368            0.10  \n",
      "1        49650            0.10  \n",
      "2        49029            0.10  \n",
      "3        43451            0.83  \n",
      "4        44059            0.90  \n",
      "5        49650            0.16  \n",
      "6        49383            0.03  \n",
      "7        48089            0.92  \n",
      "8        48917            0.14  \n"
     ]
    }
   ],
   "source": [
    "# Fusion des résultats optimisés vs fixes (par nom)\n",
    "df_comparaison = df_results.merge(df_results_fixed, on=\"Modèle\", how=\"inner\")\n",
    "df_comparaison = df_comparaison[[\"Modèle\", \"AUC_x\", \"AUC_y\", \"Coût Métier\", \"Coût Métier (seuil=0.5)\", \"Seuil Optimisé\"]]\n",
    "df_comparaison.columns = [\"Modèle\", \"AUC (optimisé)\", \"AUC (fixe)\", \"Coût (optimisé)\", \"Coût (fixe)\", \"Seuil optimisé\"]\n",
    "\n",
    "# Affichage\n",
    "print(\"\\n📊 Comparaison des modèles (seuil optimisé vs fixe) :\\n\")\n",
    "print(df_comparaison)\n",
    "\n",
    "# Export\n",
    "#df_comparaison.to_csv(\"comparaison_modeles.csv\", index=False)\n"
   ]
  },
  {
   "cell_type": "code",
   "execution_count": null,
   "id": "bce9d76d",
   "metadata": {},
   "outputs": [],
   "source": []
  }
 ],
 "metadata": {
  "kernelspec": {
   "display_name": "ocp7_env",
   "language": "python",
   "name": "python3"
  },
  "language_info": {
   "codemirror_mode": {
    "name": "ipython",
    "version": 3
   },
   "file_extension": ".py",
   "mimetype": "text/x-python",
   "name": "python",
   "nbconvert_exporter": "python",
   "pygments_lexer": "ipython3",
   "version": "3.11.11"
  }
 },
 "nbformat": 4,
 "nbformat_minor": 5
}
