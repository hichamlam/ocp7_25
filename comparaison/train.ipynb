{
 "cells": [
  {
   "cell_type": "code",
   "execution_count": null,
   "id": "a13ce11e",
   "metadata": {},
   "outputs": [],
   "source": []
  },
  {
   "cell_type": "code",
   "execution_count": null,
   "id": "99472fbc",
   "metadata": {},
   "outputs": [
    {
     "name": "stdout",
     "output_type": "stream",
     "text": [
      "⚠️ Erreur avec le modèle LightGBM_custom.pkl : Found array with 0 sample(s) (shape=(0, 112)) while a minimum of 1 is required by SimpleImputer.\n",
      "⚠️ Erreur avec le modèle LightGBM_pipeline.pkl : Found array with 0 sample(s) (shape=(0, 112)) while a minimum of 1 is required by SimpleImputer.\n",
      "⚠️ Erreur avec le modèle RandomForest_smote.pkl : Found array with 0 sample(s) (shape=(0, 247)) while a minimum of 1 is required by SimpleImputer.\n",
      "⚠️ Erreur avec le modèle XGBoost_custom.pkl : Found array with 0 sample(s) (shape=(0, 112)) while a minimum of 1 is required by SimpleImputer.\n",
      "⚠️ Erreur avec le modèle RandomForest_pipeline.pkl : Found array with 0 sample(s) (shape=(0, 112)) while a minimum of 1 is required by SimpleImputer.\n",
      "⚠️ Erreur avec le modèle XGBoost_smote.pkl : Found array with 0 sample(s) (shape=(0, 247)) while a minimum of 1 is required by SimpleImputer.\n",
      "⚠️ Erreur avec le modèle XGBoost_pipeline.pkl : Found array with 0 sample(s) (shape=(0, 112)) while a minimum of 1 is required by SimpleImputer.\n",
      "⚠️ Erreur avec le modèle RandomForest_custom.pkl : Found array with 0 sample(s) (shape=(0, 112)) while a minimum of 1 is required by SimpleImputer.\n",
      "⚠️ Erreur avec le modèle LightGBM_smote.pkl : Found array with 0 sample(s) (shape=(0, 247)) while a minimum of 1 is required by SimpleImputer.\n"
     ]
    }
   ],
   "source": [
    "import os\n",
    "import joblib\n",
    "import pandas as pd\n",
    "import numpy as np\n",
    "from sklearn.metrics import confusion_matrix, roc_auc_score\n",
    "import matplotlib.pyplot as plt\n",
    "from pathlib import Path\n",
    "\n",
    "# === Fonctions ===\n",
    "def business_score(y_true, y_pred):\n",
    "    cm = confusion_matrix(y_true, y_pred)\n",
    "    fn = cm[1][0]\n",
    "    fp = cm[0][1]\n",
    "    return 10 * fn + fp\n",
    "\n",
    "def evaluate_model(model, X, y, name):\n",
    "    probas = model.predict_proba(X)[:, 1]\n",
    "    preds = (probas >= 0.5).astype(int)\n",
    "    cost = business_score(y, preds)\n",
    "    auc = roc_auc_score(y, probas)\n",
    "    return {\"model\": name, \"business_score\": cost, \"AUC\": auc}\n",
    "\n",
    "# === Chargement des données ===\n",
    "train = pd.read_csv(\"../data/processed/train_clean.csv\")\n",
    "test = pd.read_csv(\"../data/processed/test_clean.csv\")\n",
    "\n",
    "\n",
    "\n",
    "# Suppression des lignes avec NaN dans TARGET (sécurité)\n",
    "train = train.dropna(subset=[\"TARGET\"])\n",
    "test = test.dropna(subset=[\"TARGET\"])\n",
    "\n",
    "X_test = test.drop(columns=[\"TARGET\", \"SK_ID_CURR\"], errors=\"ignore\")\n",
    "y_test = test[\"TARGET\"]\n",
    "\n",
    "# === Chargement des modèles ===\n",
    "models_dir = Path(\"../src/models\")\n",
    "results = []\n",
    "\n",
    "for model_file in models_dir.glob(\"*.pkl\"):\n",
    "    try:\n",
    "        model = joblib.load(model_file)\n",
    "        model_name = model_file.stem\n",
    "        res = evaluate_model(model, X_test, y_test, model_name)\n",
    "        results.append(res)\n",
    "    except Exception as e:\n",
    "        print(f\"⚠️ Erreur avec le modèle {model_file.name} : {e}\")"
   ]
  },
  {
   "cell_type": "code",
   "execution_count": 11,
   "id": "55b53530",
   "metadata": {},
   "outputs": [
    {
     "name": "stdout",
     "output_type": "stream",
     "text": [
      "[]\n"
     ]
    }
   ],
   "source": [
    "print(results)"
   ]
  },
  {
   "cell_type": "code",
   "execution_count": null,
   "id": "cda25462",
   "metadata": {},
   "outputs": [],
   "source": [
    "# === Résultats ===\n",
    "results_df = pd.DataFrame(results)\n",
    "results_df = results_df.sort_values(by=\"AUC\", ascending=False)\n",
    "\n",
    "print(\"\\n📊 Résultats comparatifs :\")\n",
    "print(results_df)\n",
    "\n"
   ]
  },
  {
   "cell_type": "code",
   "execution_count": null,
   "id": "6b65f525",
   "metadata": {},
   "outputs": [],
   "source": [
    "# === Visualisation ===\n",
    "plt.figure(figsize=(10, 5))\n",
    "plt.bar(results_df[\"model\"], results_df[\"AUC\"])\n",
    "plt.title(\"AUC de chaque modèle sur le jeu de test\")\n",
    "plt.xticks(rotation=45)\n",
    "plt.ylabel(\"AUC\")\n",
    "plt.tight_layout()\n",
    "plt.show()"
   ]
  }
 ],
 "metadata": {
  "kernelspec": {
   "display_name": "ocp7_env",
   "language": "python",
   "name": "python3"
  },
  "language_info": {
   "codemirror_mode": {
    "name": "ipython",
    "version": 3
   },
   "file_extension": ".py",
   "mimetype": "text/x-python",
   "name": "python",
   "nbconvert_exporter": "python",
   "pygments_lexer": "ipython3",
   "version": "3.11.11"
  }
 },
 "nbformat": 4,
 "nbformat_minor": 5
}
